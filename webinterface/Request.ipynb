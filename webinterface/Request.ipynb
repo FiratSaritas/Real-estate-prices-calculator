{
 "cells": [
  {
   "cell_type": "markdown",
   "metadata": {},
   "source": [
    "# link your Testdata:"
   ]
  },
  {
   "cell_type": "code",
   "execution_count": 1,
   "metadata": {},
   "outputs": [],
   "source": [
    "link = '../data/test.csv'"
   ]
  },
  {
   "cell_type": "code",
   "execution_count": 2,
   "metadata": {},
   "outputs": [],
   "source": [
    "import requests\n",
    "import pandas as pd\n",
    "import numpy as np\n",
    "import sys\n",
    "sys.path.append('..')\n",
    "from util.helper import Filler, NewFeatures, Encoder, Dropper\n",
    "df = pd.read_csv(link)"
   ]
  },
  {
   "cell_type": "markdown",
   "metadata": {},
   "source": [
    "## ↓ Run this code for the whole cleaning-process: ↓"
   ]
  },
  {
   "cell_type": "code",
   "execution_count": 3,
   "metadata": {},
   "outputs": [
    {
     "name": "stderr",
     "output_type": "stream",
     "text": [
      "C:\\Users\\Firat\\Anaconda3\\lib\\site-packages\\ipykernel_launcher.py:7: FutureWarning: Your version of xlrd is 1.2.0. In xlrd >= 2.0, only the xls format is supported. As a result, the openpyxl engine will be used if it is installed and the engine argument is not specified. Install openpyxl instead.\n",
      "  import sys\n"
     ]
    },
    {
     "name": "stdout",
     "output_type": "stream",
     "text": [
      "FloorNumber filled.\n",
      "RenovationYear filled.\n",
      "Politics filled.\n",
      "AreaProperty filled.\n",
      "Done\n"
     ]
    }
   ],
   "source": [
    "import pandas as pd\n",
    "import numpy as np\n",
    "import sys\n",
    "sys.path.append('..')\n",
    "from util.helper import Filler, NewFeatures, Encoder, Dropper\n",
    "df = pd.read_csv(link)\n",
    "ga_hta = pd.read_excel('../data/ga_hta.xlsx')\n",
    "ga_hta = ga_hta[ga_hta['Jahr_An_Anno'] == ga_hta['Jahr_An_Anno'].max()]\n",
    "ga_hta = ga_hta[['PLZ_NPA', 'GA_AG', 'HTA_ADT_meta-prezzo']]\n",
    "ga_hta.columns = ['PLZ', 'Amount_GA', 'Amount_HT']\n",
    "ga = ga_hta.set_index('PLZ').drop('Amount_HT', axis=1).to_dict()\n",
    "ga = ga['Amount_GA']\n",
    "df['Amount_GA'] = df['Zip'].replace(ga)\n",
    "ht = ga_hta.set_index('PLZ').drop('Amount_GA', axis=1).to_dict()\n",
    "ht = ht['Amount_HT']\n",
    "df['Amount_HT'] = df['Zip'].replace(ht)\n",
    "bahnhof = pd.read_html('https://de.wikipedia.org/wiki/Liste_der_Bahnh%C3%B6fe_in_der_Schweiz')\n",
    "bahnhof  = pd.concat(bahnhof, axis=0)\n",
    "bahnhof['has_bhf'] = 1\n",
    "bahnhof = bahnhof[['Standortgemeinde', 'has_bhf']]\n",
    "bahnhof.columns = ['Locality', 'has_bhf']\n",
    "df['has_bhf'] = np.where(df['Locality'].isin(bahnhof['Locality'].unique()), 1, 0)\n",
    "dropper = Dropper()\n",
    "df = dropper.drop_all(df)\n",
    "fill = Filler()\n",
    "df = fill.fill_all(df=df, fill_method='0')\n",
    "new_features = NewFeatures()\n",
    "df = new_features.add(df)\n",
    "df = new_features.combine_cat_features(df)\n",
    "encoder = Encoder()\n",
    "df = encoder.count_encoding(df)\n",
    "print('Done')"
   ]
  },
  {
   "cell_type": "markdown",
   "metadata": {},
   "source": [
    "## The Prediction:"
   ]
  },
  {
   "cell_type": "code",
   "execution_count": 6,
   "metadata": {},
   "outputs": [
    {
     "name": "stdout",
     "output_type": "stream",
     "text": [
      "predictions: [1048502.0625]\n"
     ]
    }
   ],
   "source": [
    "# Address URL to request data from\n",
    "url = 'http://127.0.0.1:5000/'\n",
    "\n",
    "# Dicitonary of Elements send to API\n",
    "file = df.to_dict('list')\n",
    "\n",
    "# Make Post Request\n",
    "response = requests.post(url=url, json=file)\n",
    "predictions = response.json()\n",
    "print('predictions:',predictions)"
   ]
  },
  {
   "cell_type": "code",
   "execution_count": null,
   "metadata": {},
   "outputs": [],
   "source": []
  }
 ],
 "metadata": {
  "kernelspec": {
   "display_name": "Python 3",
   "language": "python",
   "name": "python3"
  },
  "language_info": {
   "codemirror_mode": {
    "name": "ipython",
    "version": 3
   },
   "file_extension": ".py",
   "mimetype": "text/x-python",
   "name": "python",
   "nbconvert_exporter": "python",
   "pygments_lexer": "ipython3",
   "version": "3.7.9"
  }
 },
 "nbformat": 4,
 "nbformat_minor": 4
}
